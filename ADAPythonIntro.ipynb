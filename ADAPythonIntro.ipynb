{
 "cells": [
  {
   "cell_type": "markdown",
   "metadata": {},
   "source": [
    "## Advanced Data Analysis - Getting to know Jupyter\n",
    "|Learning objectives of this class| Data tasks you will perform|\n",
    "|:-------|:---|\n",
    "|1) Become familiar with Jupyter notebooks | Automating analysis\n",
    "|2) Basic Python data structures | Plotting raw data from an intracellular recording, automatic detction of spikes and plot a histogram of instantaneous firing rate \n",
    "|3) Loading and using modules/libraries| Plot the raw data from a voltage clamp experiment of Kv currents, plot the IV and activation curves\n",
    "|4) Importing data: text, csv and image files| Loading images and movies, display multiple contours on images\n",
    "|5) numpy arrays, indexing and exploring\n",
    "|6) Visualise data "
   ]
  },
  {
   "cell_type": "markdown",
   "metadata": {},
   "source": [
    "# Basic functions of Jupyter and python objects"
   ]
  },
  {
   "cell_type": "code",
   "execution_count": null,
   "metadata": {
    "ExecuteTime": {
     "end_time": "2021-01-25T12:03:28.289765Z",
     "start_time": "2021-01-25T12:03:28.285388Z"
    }
   },
   "outputs": [],
   "source": [
    "# the hash symbol comments out your code i.e. it is ignore when you run\n",
    "# execute code\n",
    "print('ctrl + enter will execute this cell') # everything after the # symbol on each line is \"commented\"\n",
    "print('whereas shift + enter will execute this cell and move to the next')"
   ]
  },
  {
   "cell_type": "code",
   "execution_count": null,
   "metadata": {
    "ExecuteTime": {
     "end_time": "2021-01-25T12:03:28.727708Z",
     "start_time": "2021-01-25T12:03:28.710445Z"
    },
    "scrolled": false
   },
   "outputs": [],
   "source": [
    "print('When a cell is green it is in the \"edit mode\" and you can type in it \\n')\n",
    "print('ctrl+enter to execute this cell\\n') \n",
    "print('it is now blue and in the \"command mode\", you can use the arrow keys to move up and down \\nto different cells\\n')\n",
    "print('The b key will add a new cell below the selected cell in command mode')\n",
    "print('Press b and in the new cell type a=\"hello \" and a new line type b=1 and agian on \\nanother line type c=0.1')"
   ]
  },
  {
   "cell_type": "markdown",
   "metadata": {},
   "source": [
    "**a, b, and c now exist in memory, you can see them in the variable inspector**"
   ]
  },
  {
   "cell_type": "code",
   "execution_count": null,
   "metadata": {
    "ExecuteTime": {
     "end_time": "2021-01-25T12:03:29.978514Z",
     "start_time": "2021-01-25T12:03:29.972341Z"
    }
   },
   "outputs": [],
   "source": [
    "print(\"a is a \",type(a))\n",
    "print(\"b is a \",type(b))\n",
    "print(\"c is a \",type(c))\n"
   ]
  },
  {
   "cell_type": "markdown",
   "metadata": {},
   "source": [
    "**Strings**\n",
    "- addition\n",
    "- converting numbers"
   ]
  },
  {
   "cell_type": "code",
   "execution_count": null,
   "metadata": {
    "ExecuteTime": {
     "end_time": "2021-01-25T12:03:30.420587Z",
     "start_time": "2021-01-25T12:03:30.412462Z"
    }
   },
   "outputs": [],
   "source": []
  },
  {
   "cell_type": "markdown",
   "metadata": {},
   "source": [
    "**Variables**\n",
    "- int (integers)\n",
    "- float (floating point number, i.e. has a decimel)"
   ]
  },
  {
   "cell_type": "code",
   "execution_count": null,
   "metadata": {
    "ExecuteTime": {
     "end_time": "2021-01-25T12:03:30.814727Z",
     "start_time": "2021-01-25T12:03:30.810333Z"
    }
   },
   "outputs": [],
   "source": []
  },
  {
   "cell_type": "markdown",
   "metadata": {
    "ExecuteTime": {
     "end_time": "2021-01-25T11:19:53.812859Z",
     "start_time": "2021-01-25T11:19:53.793170Z"
    }
   },
   "source": [
    "**Bools (boolean)** \n",
    "- used when data is either/or, 0 or 1 "
   ]
  },
  {
   "cell_type": "code",
   "execution_count": null,
   "metadata": {
    "ExecuteTime": {
     "end_time": "2021-01-25T12:03:31.291586Z",
     "start_time": "2021-01-25T12:03:31.287003Z"
    },
    "scrolled": true
   },
   "outputs": [],
   "source": []
  },
  {
   "cell_type": "markdown",
   "metadata": {
    "ExecuteTime": {
     "end_time": "2021-01-25T11:28:22.084145Z",
     "start_time": "2021-01-25T11:28:22.077899Z"
    }
   },
   "source": [
    "**Lists (containers of other things including lists)** "
   ]
  },
  {
   "cell_type": "code",
   "execution_count": null,
   "metadata": {
    "ExecuteTime": {
     "end_time": "2021-01-25T12:03:31.820464Z",
     "start_time": "2021-01-25T12:03:31.814003Z"
    }
   },
   "outputs": [],
   "source": []
  },
  {
   "cell_type": "code",
   "execution_count": null,
   "metadata": {
    "ExecuteTime": {
     "end_time": "2021-01-25T12:03:32.084284Z",
     "start_time": "2021-01-25T12:03:32.076811Z"
    }
   },
   "outputs": [],
   "source": [
    "\n",
    "\n",
    "f=['lists are just lists of things','that can contain any data type']\n",
    "e.append(f)\n",
    "e.append('the last item in this list')\n",
    "\n",
    "print(e)\n"
   ]
  },
  {
   "cell_type": "markdown",
   "metadata": {},
   "source": [
    "**list are usefull to append things to, you can query how many items are in the list with len()**"
   ]
  },
  {
   "cell_type": "code",
   "execution_count": null,
   "metadata": {
    "ExecuteTime": {
     "end_time": "2021-01-25T12:03:32.731380Z",
     "start_time": "2021-01-25T12:03:32.725804Z"
    }
   },
   "outputs": [],
   "source": [
    "print('there are ',len(e), 'items in e')"
   ]
  },
  {
   "cell_type": "markdown",
   "metadata": {},
   "source": [
    "**Indexing/slicing**\n",
    "- how to address/get different parts of a list\n",
    "- watch [this video](https://youtu.be/KAXvMbD1Zac) if you are unsure about how indexing works "
   ]
  },
  {
   "cell_type": "code",
   "execution_count": null,
   "metadata": {
    "ExecuteTime": {
     "end_time": "2021-01-25T12:03:33.460131Z",
     "start_time": "2021-01-25T12:03:33.452431Z"
    }
   },
   "outputs": [],
   "source": [
    "\n",
    "\n",
    "\n"
   ]
  },
  {
   "cell_type": "markdown",
   "metadata": {},
   "source": [
    "## For loops\n",
    "\n",
    "**the first line of a for loop should be:**\n",
    "        \n",
    "<code> for 'iterable' in list:\n",
    "        the content of the loop\n",
    "        is everything at one indent after the\n",
    "        first line</code>\n",
    "    \n",
    "**loops enable iteration over data sets repeating laborious tasks, i.e. they perform automation of analysis**"
   ]
  },
  {
   "cell_type": "code",
   "execution_count": null,
   "metadata": {
    "ExecuteTime": {
     "end_time": "2021-01-25T12:26:39.002196Z",
     "start_time": "2021-01-25T12:26:38.998081Z"
    }
   },
   "outputs": [],
   "source": [
    "alist=['each','of','these','is','the','contents','of','the','list','at','the','specified','index','of','the','list']"
   ]
  },
  {
   "cell_type": "code",
   "execution_count": null,
   "metadata": {
    "ExecuteTime": {
     "end_time": "2021-01-25T12:26:39.697302Z",
     "start_time": "2021-01-25T12:26:39.690020Z"
    }
   },
   "outputs": [],
   "source": []
  },
  {
   "cell_type": "markdown",
   "metadata": {
    "ExecuteTime": {
     "end_time": "2021-01-25T12:24:18.201092Z",
     "start_time": "2021-01-25T12:24:18.195055Z"
    }
   },
   "source": [
    "**or you can use the more general purpose \"range()\", it has simiar synatax to np.arange**"
   ]
  },
  {
   "cell_type": "code",
   "execution_count": null,
   "metadata": {
    "ExecuteTime": {
     "end_time": "2021-01-25T12:27:09.207866Z",
     "start_time": "2021-01-25T12:27:09.202335Z"
    }
   },
   "outputs": [],
   "source": []
  },
  {
   "cell_type": "markdown",
   "metadata": {},
   "source": [
    "**Doing maths with lists....**"
   ]
  },
  {
   "cell_type": "code",
   "execution_count": null,
   "metadata": {
    "ExecuteTime": {
     "end_time": "2021-01-25T12:27:53.603211Z",
     "start_time": "2021-01-25T12:27:53.596048Z"
    }
   },
   "outputs": [],
   "source": [
    "numbersInList=[0,1,2,3,4,5,6,7,8,9]\n"
   ]
  },
  {
   "cell_type": "markdown",
   "metadata": {},
   "source": [
    "**The basics**  \n",
    "**You have learnt about:**\n",
    "   - jupyter edit and command modes\n",
    "   - code **cells** and *markdown* ***cells***\n",
    "   - *strings* and **variables: ints and floats**\n",
    "   - lists: **learn more of their very useful functions here**: https://docs.python.org/3/tutorial/datastructures.html\n",
    "   - how to query the data type of an object: \"**type(object)**\"\n",
    "   - how to query the length of an object: \"**len(object)**\"\n",
    "   - how to query an index of a list: \"**list[index]**\"\n",
    "   - how to use for loops\n",
    "   - you can't do maths with lists of variables\n",
    "   \n",
    "   - There are other basic data classes that we will not cover such as Dictionaries{} as we will not be using them, you can learn more about them here: https://docs.python.org/3/tutorial/datastructures.html#dictionaries "
   ]
  },
  {
   "cell_type": "markdown",
   "metadata": {},
   "source": [
    "**Break**"
   ]
  },
  {
   "cell_type": "markdown",
   "metadata": {},
   "source": [
    "# Using Python modules/libaries/packages\n",
    "**Python has been extended with modules developed by a massive community to enable you to do pretty much any kind of analysis or data visualisation that you need**\n",
    "\n",
    "\n",
    "**To use any of these modules you first need to install the package/module:**\n",
    "- via anaconda environment package manager\n",
    "- or via pip install in the terminal or in a cell\n",
    "\n",
    "##### Note on terminology: Libraries are collections of packages which are collections of modules"
   ]
  },
  {
   "cell_type": "code",
   "execution_count": null,
   "metadata": {
    "ExecuteTime": {
     "end_time": "2021-01-25T12:28:29.992151Z",
     "start_time": "2021-01-25T12:28:29.499738Z"
    }
   },
   "outputs": [],
   "source": [
    "import numpy as np      # this imports all of numpy which you will now refer to as np\n",
    "from matplotlib import pyplot as plt # this imports the pyplot package from the matplotlib\n",
    "# library which you will now refer to as plt\n",
    "\n",
    "plt.rcParams.update({'font.size': 14})  # sets the font size of all plots to 14"
   ]
  },
  {
   "cell_type": "markdown",
   "metadata": {},
   "source": [
    "**NumPy (np)**\n",
    "- Converting lists to arrays\n",
    "- Maths\n",
    "- Indexing (watch [this video](https://youtu.be/KAXvMbD1Zac) if you are unsure about how indexing works) \n",
    "- Place Holders / generating arrays    \n",
    "\n",
    "**_See the NumPy cheat sheet on Minerva_**"
   ]
  },
  {
   "cell_type": "code",
   "execution_count": null,
   "metadata": {
    "ExecuteTime": {
     "end_time": "2021-01-25T12:28:31.830201Z",
     "start_time": "2021-01-25T12:28:31.825643Z"
    }
   },
   "outputs": [],
   "source": [
    "a=np.asarray(numbersInList)   #we have now converted the list of numbers to an array"
   ]
  },
  {
   "cell_type": "code",
   "execution_count": null,
   "metadata": {
    "ExecuteTime": {
     "end_time": "2021-01-25T12:28:36.772135Z",
     "start_time": "2021-01-25T12:28:36.765038Z"
    }
   },
   "outputs": [],
   "source": []
  },
  {
   "cell_type": "code",
   "execution_count": null,
   "metadata": {
    "ExecuteTime": {
     "end_time": "2021-01-25T12:28:38.204072Z",
     "start_time": "2021-01-25T12:28:38.197578Z"
    }
   },
   "outputs": [],
   "source": []
  },
  {
   "cell_type": "markdown",
   "metadata": {
    "ExecuteTime": {
     "end_time": "2021-01-24T18:37:50.385668Z",
     "start_time": "2021-01-24T18:37:50.376418Z"
    }
   },
   "source": [
    "**Place holders / generating data**\n",
    "- np.arange https://numpy.org/doc/stable/reference/generated/numpy.arange.html\n",
    "- np.linspace https://numpy.org/doc/stable/reference/generated/numpy.linspace.html\n",
    "- np.zeros https://numpy.org/doc/stable/reference/generated/numpy.zeros.html?highlight=zeros#numpy.zeros\n",
    "- np.ones https://numpy.org/doc/stable/reference/generated/numpy.ones.html"
   ]
  },
  {
   "cell_type": "code",
   "execution_count": null,
   "metadata": {
    "ExecuteTime": {
     "end_time": "2021-01-25T12:06:09.784486Z",
     "start_time": "2021-01-25T12:06:09.778196Z"
    }
   },
   "outputs": [],
   "source": []
  },
  {
   "cell_type": "markdown",
   "metadata": {},
   "source": [
    "## Loading data\n",
    "- Data is a current clamp recording from a mitral cell in the olfactory bulb, a current injection is given to evoke action potential firing\n",
    "- We are going to plot the raw data, use event detection to automatically identify spikes and then calculate the average firing rate of the cell\n",
    "- See np.genfromtxt for how to load different formats or sections of files https://numpy.org/doc/stable/reference/generated/numpy.genfromtxt.html\n",
    "- If you are dealing with excel type data the pandas library is very good for loading and displaying excel files"
   ]
  },
  {
   "cell_type": "code",
   "execution_count": null,
   "metadata": {
    "ExecuteTime": {
     "end_time": "2021-01-25T12:31:04.617516Z",
     "start_time": "2021-01-25T12:31:04.550554Z"
    }
   },
   "outputs": [],
   "source": [
    "data = np.genfromtxt('mitralSpikes.txt');\n"
   ]
  },
  {
   "cell_type": "markdown",
   "metadata": {},
   "source": [
    "**Now we will visualise it**"
   ]
  },
  {
   "cell_type": "code",
   "execution_count": null,
   "metadata": {
    "ExecuteTime": {
     "end_time": "2021-01-25T12:03:44.833894Z",
     "start_time": "2021-01-25T12:03:44.635012Z"
    }
   },
   "outputs": [],
   "source": [
    "plt.plot(data); # matplotlib enables very quick and simple display of data\n"
   ]
  },
  {
   "cell_type": "markdown",
   "metadata": {},
   "source": [
    "**To make the plots more accurate we need an xscale and to add axis labels**"
   ]
  },
  {
   "cell_type": "code",
   "execution_count": null,
   "metadata": {
    "ExecuteTime": {
     "end_time": "2021-01-25T12:03:46.214441Z",
     "start_time": "2021-01-25T12:03:46.210981Z"
    }
   },
   "outputs": [],
   "source": [
    "sampleRate = 15000\n",
    "xScale = "
   ]
  },
  {
   "cell_type": "code",
   "execution_count": null,
   "metadata": {
    "ExecuteTime": {
     "end_time": "2021-01-25T12:03:47.207764Z",
     "start_time": "2021-01-25T12:03:47.018754Z"
    }
   },
   "outputs": [],
   "source": []
  },
  {
   "cell_type": "markdown",
   "metadata": {},
   "source": [
    "**now lets get the time of each action potential so that we can calculate spike rate**\n",
    "- The Scipy library provides lots of fancy functionality\n",
    "- We will use it to find the peaks i.e. spikes in this signal"
   ]
  },
  {
   "cell_type": "code",
   "execution_count": null,
   "metadata": {
    "ExecuteTime": {
     "end_time": "2021-01-25T12:30:58.946840Z",
     "start_time": "2021-01-25T12:30:58.071545Z"
    }
   },
   "outputs": [],
   "source": [
    "import scipy.signal as signal"
   ]
  },
  {
   "cell_type": "code",
   "execution_count": null,
   "metadata": {
    "ExecuteTime": {
     "end_time": "2021-01-25T12:31:08.142704Z",
     "start_time": "2021-01-25T12:31:08.139016Z"
    },
    "scrolled": true
   },
   "outputs": [],
   "source": [
    "peaks, props = signal.find_peaks(data,height=0) #this function returns two things: 1) peaks\n",
    "# which is the location of the spike in sample points and props which contains other details about the peaks\n"
   ]
  },
  {
   "cell_type": "markdown",
   "metadata": {},
   "source": [
    "**We have a list of spike times, we can now make a histogram of the instantaneous spike rates**"
   ]
  },
  {
   "cell_type": "code",
   "execution_count": null,
   "metadata": {
    "ExecuteTime": {
     "end_time": "2021-01-25T12:31:15.832878Z",
     "start_time": "2021-01-25T12:31:15.574141Z"
    },
    "scrolled": false
   },
   "outputs": [],
   "source": []
  },
  {
   "cell_type": "markdown",
   "metadata": {
    "ExecuteTime": {
     "end_time": "2021-01-25T12:33:53.046393Z",
     "start_time": "2021-01-25T12:33:53.040854Z"
    }
   },
   "source": [
    "**Now we will show both together**"
   ]
  },
  {
   "cell_type": "code",
   "execution_count": null,
   "metadata": {
    "ExecuteTime": {
     "end_time": "2021-01-25T12:07:23.878067Z",
     "start_time": "2021-01-25T12:07:23.408455Z"
    }
   },
   "outputs": [],
   "source": []
  },
  {
   "cell_type": "markdown",
   "metadata": {},
   "source": [
    "## A more complex figure \n",
    "\n",
    "- This data is a voltage clamp recording of a Kv2 potassium current taken from: [Johnston, et al (2008)](https://www.ncbi.nlm.nih.gov/pmc/articles/PMC2538803/)\n",
    "\n",
    "- We are going to plot the raw data with the command voltage and make plots of the current voltage relationship and the activation kinetics of the channel"
   ]
  },
  {
   "cell_type": "code",
   "execution_count": null,
   "metadata": {
    "ExecuteTime": {
     "end_time": "2021-01-25T12:04:08.723785Z",
     "start_time": "2021-01-25T12:04:08.386891Z"
    }
   },
   "outputs": [],
   "source": [
    "#Load the data\n",
    "measuredI=np.loadtxt('VClampI.txt', delimiter=','); ## load some new data, this is comma seperated...\n",
    "commandV=np.loadtxt('VClampV.txt', delimiter=','); ## load some new data, this is comma seperated...\n",
    "VCsampleRate = 10000\n",
    "xScaleVC = np.arange(0,len(measuredI)/VCsampleRate, 1/VCsampleRate)\n",
    "# the units of measuredI is pA\n",
    "# the units of commandV is mV\n"
   ]
  },
  {
   "cell_type": "code",
   "execution_count": null,
   "metadata": {
    "ExecuteTime": {
     "end_time": "2021-01-25T12:04:08.954040Z",
     "start_time": "2021-01-25T12:04:08.944937Z"
    }
   },
   "outputs": [],
   "source": [
    "# check what its dimensions look like\n"
   ]
  },
  {
   "cell_type": "code",
   "execution_count": null,
   "metadata": {
    "ExecuteTime": {
     "end_time": "2021-01-25T12:04:09.971840Z",
     "start_time": "2021-01-25T12:04:09.726336Z"
    }
   },
   "outputs": [],
   "source": [
    "# have a quick look at it\n",
    "plt.plot(measuredI);\n"
   ]
  },
  {
   "cell_type": "markdown",
   "metadata": {},
   "source": [
    "**All of the current traces are in pA lets convert them all to nA by dividing them all by 1000**"
   ]
  },
  {
   "cell_type": "code",
   "execution_count": null,
   "metadata": {
    "ExecuteTime": {
     "end_time": "2021-01-25T12:04:12.068656Z",
     "start_time": "2021-01-25T12:04:11.809782Z"
    },
    "scrolled": true
   },
   "outputs": [],
   "source": []
  },
  {
   "cell_type": "markdown",
   "metadata": {},
   "source": [
    "**Building a more complex figure**"
   ]
  },
  {
   "cell_type": "code",
   "execution_count": null,
   "metadata": {
    "ExecuteTime": {
     "end_time": "2021-01-25T12:04:16.972235Z",
     "start_time": "2021-01-25T12:04:16.187419Z"
    }
   },
   "outputs": [],
   "source": []
  },
  {
   "cell_type": "markdown",
   "metadata": {},
   "source": [
    "**numpy arrays and plotting**  \n",
    "**You have learnt about:**  \n",
    "   - how to load extra modules into python and import them for use in your analysis\n",
    "   - how to load text files and csv data into numpy arrays\n",
    "   - numpy arrays allow maths on lists of numbers\n",
    "   - how to query the dimesions of numpy arrays\n",
    "   - how to quickly plot data to examine it using matplotlib\n",
    "   - you used a module of scipy to detect action potentials and calculated firing rate\n",
    "   - how to generate multipanel layouts with annotated figures\n",
    "   - how to loop through arrays to efficiently add multiple traces to a graph\n",
    "   - how to use numpy indexing to quickly generate analysis plots \n",
    "   \n"
   ]
  },
  {
   "cell_type": "markdown",
   "metadata": {},
   "source": [
    "# Break time"
   ]
  },
  {
   "cell_type": "markdown",
   "metadata": {},
   "source": [
    "# Images: importing, properties, indexing and display\n",
    "\n",
    "- 2-Photon imaging of GCaMP6 expressing inhibotory neurons of the olfactory bulb\n",
    "- We are going to plot the segmented cells as contours ontop of the average image of the field of view"
   ]
  },
  {
   "cell_type": "code",
   "execution_count": null,
   "metadata": {
    "ExecuteTime": {
     "end_time": "2021-01-25T12:04:21.028879Z",
     "start_time": "2021-01-25T12:04:20.930125Z"
    }
   },
   "outputs": [],
   "source": [
    "import tifffile as tf"
   ]
  },
  {
   "cell_type": "code",
   "execution_count": null,
   "metadata": {
    "ExecuteTime": {
     "end_time": "2021-01-25T12:04:21.928012Z",
     "start_time": "2021-01-25T12:04:21.645761Z"
    }
   },
   "outputs": [],
   "source": [
    "cellMaps = tf.imread('PGcell_Maps.tif')\n",
    "aveProjection = tf.imread('aveProjection.tif')"
   ]
  },
  {
   "cell_type": "code",
   "execution_count": null,
   "metadata": {
    "ExecuteTime": {
     "end_time": "2021-01-25T12:04:22.368547Z",
     "start_time": "2021-01-25T12:04:22.361222Z"
    }
   },
   "outputs": [],
   "source": [
    "## inspect what you have loaded\n"
   ]
  },
  {
   "cell_type": "markdown",
   "metadata": {},
   "source": [
    "**Show all the Rois ontop of the average image as contours**"
   ]
  },
  {
   "cell_type": "code",
   "execution_count": null,
   "metadata": {
    "ExecuteTime": {
     "end_time": "2021-01-25T12:09:00.023640Z",
     "start_time": "2021-01-25T12:08:56.495779Z"
    },
    "scrolled": false
   },
   "outputs": [],
   "source": [
    "\n",
    "\n"
   ]
  },
  {
   "cell_type": "code",
   "execution_count": null,
   "metadata": {},
   "outputs": [],
   "source": []
  },
  {
   "cell_type": "markdown",
   "metadata": {},
   "source": [
    "## Defining and fitting functions\n",
    "**An experimenter is measuring the amonia on the breath of a patient having kidney dialysis and wants to determine the time constant of clearance of urea/amonia from the body**\n",
    "- Samples were taken every minute\n",
    "- each data point is the concentration of amonia in mg/dl "
   ]
  },
  {
   "cell_type": "code",
   "execution_count": null,
   "metadata": {
    "ExecuteTime": {
     "end_time": "2021-01-25T12:09:49.166392Z",
     "start_time": "2021-01-25T12:09:49.159877Z"
    }
   },
   "outputs": [],
   "source": [
    "import scipy.optimize as fit  ## imports the optimization tool box as fit\n",
    "breath = np.load('decay.npy')"
   ]
  },
  {
   "cell_type": "markdown",
   "metadata": {
    "ExecuteTime": {
     "end_time": "2021-01-24T20:15:07.573297Z",
     "start_time": "2021-01-24T20:15:07.565367Z"
    }
   },
   "source": [
    "> 1) Plot the data as a scatter plot i.e. points for markers rather than lines between points.  \n",
    "> 2) Define the appropriate equation to describe clearance from the body.  \n",
    "> 3) Fit this equation to your data.    \n",
    "> 4) Determine the time constant of urea clearance and print this with some descriptive text\n"
   ]
  },
  {
   "cell_type": "code",
   "execution_count": null,
   "metadata": {
    "ExecuteTime": {
     "end_time": "2021-01-25T12:09:51.985204Z",
     "start_time": "2021-01-25T12:09:51.786432Z"
    },
    "scrolled": true
   },
   "outputs": [],
   "source": []
  },
  {
   "cell_type": "code",
   "execution_count": null,
   "metadata": {},
   "outputs": [],
   "source": []
  }
 ],
 "metadata": {
  "kernelspec": {
   "display_name": "Python 3",
   "language": "python",
   "name": "python3"
  },
  "language_info": {
   "codemirror_mode": {
    "name": "ipython",
    "version": 3
   },
   "file_extension": ".py",
   "mimetype": "text/x-python",
   "name": "python",
   "nbconvert_exporter": "python",
   "pygments_lexer": "ipython3",
   "version": "3.8.5"
  },
  "toc": {
   "base_numbering": 1,
   "nav_menu": {},
   "number_sections": false,
   "sideBar": true,
   "skip_h1_title": false,
   "title_cell": "Python Intro",
   "title_sidebar": "Contents",
   "toc_cell": false,
   "toc_position": {},
   "toc_section_display": true,
   "toc_window_display": false
  },
  "varInspector": {
   "cols": {
    "lenName": 16,
    "lenType": 16,
    "lenVar": 40
   },
   "kernels_config": {
    "python": {
     "delete_cmd_postfix": "",
     "delete_cmd_prefix": "del ",
     "library": "var_list.py",
     "varRefreshCmd": "print(var_dic_list())"
    },
    "r": {
     "delete_cmd_postfix": ") ",
     "delete_cmd_prefix": "rm(",
     "library": "var_list.r",
     "varRefreshCmd": "cat(var_dic_list()) "
    }
   },
   "position": {
    "height": "249px",
    "left": "8px",
    "right": "20px",
    "top": "139px",
    "width": "252px"
   },
   "types_to_exclude": [
    "module",
    "function",
    "builtin_function_or_method",
    "instance",
    "_Feature"
   ],
   "window_display": false
  }
 },
 "nbformat": 4,
 "nbformat_minor": 2
}
